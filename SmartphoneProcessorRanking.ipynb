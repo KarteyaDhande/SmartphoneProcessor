{
 "cells": [
  {
   "cell_type": "code",
   "execution_count": 1,
   "id": "ebceda34",
   "metadata": {},
   "outputs": [],
   "source": [
    "import numpy as np # linear algebra\n",
    "import pandas as pd # data processing, CSV file I/O (e.g. pd.read_csv)"
   ]
  },
  {
   "cell_type": "code",
   "execution_count": null,
   "id": "adb96a53",
   "metadata": {},
   "outputs": [],
   "source": [
    "import os\n",
    "for dirname, _, filenames in os.walk('/kaggle/input'):\n",
    "    for filename in filenames:\n",
    "        print(os.path.join(dirname, filename))"
   ]
  },
  {
   "cell_type": "code",
   "execution_count": null,
   "id": "2e85c041",
   "metadata": {},
   "outputs": [],
   "source": [
    "import matplotlib.pyplot as plt\n",
    "import seaborn as sns\n",
    "from os import path\n",
    "from PIL import Image\n",
    "from wordcloud import WordCloud, STOPWORDS, ImageColorGenerator"
   ]
  },
  {
   "cell_type": "code",
   "execution_count": null,
   "id": "2bb8b5d3",
   "metadata": {},
   "outputs": [],
   "source": [
    "cpustats = pd.read_csv(\"/kaggle/input/smartphone-processors-ranking/smartphone_cpu_stats.csv\")\n",
    "MLstats = pd.read_csv(\"/kaggle/input/smartphone-processors-ranking/ML_ALL_benchmarks.csv\")\n",
    "antutu = pd.read_csv(\"/kaggle/input/smartphone-processors-ranking/antutu_android_vs_ios_v4.csv\")"
   ]
  },
  {
   "cell_type": "code",
   "execution_count": null,
   "id": "11d3410f",
   "metadata": {},
   "outputs": [],
   "source": [
    "cpustats"
   ]
  },
  {
   "cell_type": "code",
   "execution_count": null,
   "id": "05612ed7",
   "metadata": {},
   "outputs": [],
   "source": [
    "MLstats"
   ]
  },
  {
   "cell_type": "code",
   "execution_count": null,
   "id": "f6304c8a",
   "metadata": {},
   "outputs": [],
   "source": [
    "antutu"
   ]
  },
  {
   "cell_type": "code",
   "execution_count": null,
   "id": "f19cd893",
   "metadata": {},
   "outputs": [],
   "source": [
    "cpustats.columns"
   ]
  },
  {
   "cell_type": "code",
   "execution_count": null,
   "id": "f816cb4a",
   "metadata": {},
   "outputs": [],
   "source": [
    "text = \" \".join(review for review in cpustats.cpuName.astype(str))\n",
    "stopwords = set(STOPWORDS)\n",
    "wordcloud = WordCloud(stopwords=stopwords, background_color=\"white\", width=800, height=400).generate(text)\n",
    "plt.axis(\"off\")\n",
    "plt.tight_layout(pad=0)\n",
    "plt.imshow(wordcloud, interpolation='bilinear')\n",
    "plt.show()"
   ]
  },
  {
   "cell_type": "code",
   "execution_count": null,
   "id": "8f22fb3e",
   "metadata": {},
   "outputs": [],
   "source": [
    "fig = plt.figure(figsize =(10, 10))\n",
    "MLstats['company'].value_counts().plot.bar(color=['red','green','blue'])\n",
    "plt.title('Number of SoC among top devices')\n",
    "plt.show()"
   ]
  },
  {
   "cell_type": "code",
   "execution_count": null,
   "id": "203f69fe",
   "metadata": {},
   "outputs": [],
   "source": [
    "cpustats2 = cpustats[['geekbenchMulti','antutu9']]\n",
    "cpustats2.plot(x ='geekbenchMulti', y='antutu9', kind = 'scatter')\n",
    "plt.title('Geekbench Multi score vs. AnTuTu 9 score')\n",
    "plt.show()"
   ]
  }
 ],
 "metadata": {
  "kernelspec": {
   "display_name": "Python 3",
   "language": "python",
   "name": "python3"
  },
  "language_info": {
   "codemirror_mode": {
    "name": "ipython",
    "version": 3
   },
   "file_extension": ".py",
   "mimetype": "text/x-python",
   "name": "python",
   "nbconvert_exporter": "python",
   "pygments_lexer": "ipython3",
   "version": "3.8.8"
  }
 },
 "nbformat": 4,
 "nbformat_minor": 5
}
